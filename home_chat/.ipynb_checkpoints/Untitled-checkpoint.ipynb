{
 "cells": [
  {
   "cell_type": "code",
   "execution_count": 9,
   "metadata": {},
   "outputs": [],
   "source": [
    "import json\n",
    "from collections import OrderedDict\n",
    "\n",
    "file_data=OrderedDict()"
   ]
  },
  {
   "cell_type": "code",
   "execution_count": 22,
   "metadata": {},
   "outputs": [],
   "source": [
    "star_dict=dict()\n",
    "star_dict['tag']='greeting'\n",
    "star_dict['patterns']=['감사','감사합니다']"
   ]
  },
  {
   "cell_type": "code",
   "execution_count": null,
   "metadata": {},
   "outputs": [],
   "source": [
    "shop_list=list()\n",
    "f = open('restaurant.txt','r',encoding='utf-8')\n",
    "while True:    \n",
    "    line = f.readline()\n",
    "    if not line: break\n",
    "    shop_list.append(line.strip())\n",
    "f.close\n"
   ]
  },
  {
   "cell_type": "code",
   "execution_count": null,
   "metadata": {},
   "outputs": [],
   "source": [
    "star_dict['shop']=shop_list"
   ]
  },
  {
   "cell_type": "code",
   "execution_count": 23,
   "metadata": {
    "scrolled": true
   },
   "outputs": [
    {
     "name": "stdout",
     "output_type": "stream",
     "text": [
      "{\n",
      "\t\"intents\": [\n",
      "\t\t{\n",
      "\t\t\t\"tag\": \"greeting\",\n",
      "\t\t\t\"patterns\": [\n",
      "\t\t\t\t\"감사\",\n",
      "\t\t\t\t\"감사합니다\"\n",
      "\t\t\t],\n",
      "\t\t\t\"shop\": [\n",
      "\t\t\t\t\"CJ푸드월드\",\n",
      "\t\t\t\t\"경성면옥\",\n",
      "\t\t\t\t\"고봉삼계탕\",\n",
      "\t\t\t\t\"광화문미진\",\n",
      "\t\t\t\t\"대가집\"\n",
      "\t\t\t]\n",
      "\t\t}\n",
      "\t]\n",
      "}\n"
     ]
    }
   ],
   "source": [
    "file_data[\"intents\"]=[star_dict]\n",
    "print(json.dumps(file_data,ensure_ascii=False,indent='\\t'))"
   ]
  },
  {
   "cell_type": "code",
   "execution_count": 24,
   "metadata": {},
   "outputs": [],
   "source": [
    "with open('words.json','w',encoding='utf-8') as make_file:\n",
    "    json.dump(file_data,make_file,ensure_ascii=False,indent='\\t')"
   ]
  },
  {
   "cell_type": "code",
   "execution_count": null,
   "metadata": {},
   "outputs": [],
   "source": []
  }
 ],
 "metadata": {
  "kernelspec": {
   "display_name": "ChatApp_env",
   "language": "python",
   "name": "chat_env"
  },
  "language_info": {
   "codemirror_mode": {
    "name": "ipython",
    "version": 3
   },
   "file_extension": ".py",
   "mimetype": "text/x-python",
   "name": "python",
   "nbconvert_exporter": "python",
   "pygments_lexer": "ipython3",
   "version": "3.6.12"
  }
 },
 "nbformat": 4,
 "nbformat_minor": 4
}
